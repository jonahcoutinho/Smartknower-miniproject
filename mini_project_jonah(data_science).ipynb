{
  "nbformat": 4,
  "nbformat_minor": 0,
  "metadata": {
    "colab": {
      "name": "mini project-jonah(data science).ipynb",
      "provenance": [],
      "collapsed_sections": [],
      "mount_file_id": "1f1wBXhYKclwI2D801f08pvu-DBIZnpLn",
      "authorship_tag": "ABX9TyPgW1j0ibg1HQaVpGeX5SdS",
      "include_colab_link": true
    },
    "kernelspec": {
      "name": "python3",
      "display_name": "Python 3"
    },
    "language_info": {
      "name": "python"
    }
  },
  "cells": [
    {
      "cell_type": "markdown",
      "metadata": {
        "id": "view-in-github",
        "colab_type": "text"
      },
      "source": [
        "<a href=\"https://colab.research.google.com/github/jonahcoutinho/Smartknower-miniproject/blob/main/mini_project_jonah(data_science).ipynb\" target=\"_parent\"><img src=\"https://colab.research.google.com/assets/colab-badge.svg\" alt=\"Open In Colab\"/></a>"
      ]
    },
    {
      "cell_type": "markdown",
      "metadata": {
        "id": "XTBX5uL2V4D_"
      },
      "source": [
        "**This Project is a Finger digits Classifier .**\n",
        "the data set has been taken from kaggle and i have used 40 images per digit, which totals to roughly 240 images\n",
        "the link to the image files is:https://drive.google.com/drive/folders/1ACPJBHhUyMCmIiXVSOTWN6FVGViY8bsf?usp=sharing"
      ]
    },
    {
      "cell_type": "markdown",
      "metadata": {
        "id": "TLrUegSsTmZC"
      },
      "source": [
        "import libraries"
      ]
    },
    {
      "cell_type": "code",
      "metadata": {
        "id": "XLRlmJK6ng2V",
        "colab": {
          "base_uri": "https://localhost:8080/"
        },
        "outputId": "4fe4252a-2d19-4c50-905c-2fbdddf0f873"
      },
      "source": [
        "import pandas as pd\n",
        "import matplotlib.pyplot as plt\n",
        "import numpy as np\n",
        "import os\n",
        "!pip install opencv-python\n",
        "\n"
      ],
      "execution_count": 3,
      "outputs": [
        {
          "output_type": "stream",
          "text": [
            "Requirement already satisfied: opencv-python in /usr/local/lib/python3.7/dist-packages (4.1.2.30)\n",
            "Requirement already satisfied: numpy>=1.14.5 in /usr/local/lib/python3.7/dist-packages (from opencv-python) (1.19.5)\n"
          ],
          "name": "stdout"
        }
      ]
    },
    {
      "cell_type": "markdown",
      "metadata": {
        "id": "JRQ0bUMmT0Q7"
      },
      "source": [
        "data preprocessing"
      ]
    },
    {
      "cell_type": "code",
      "metadata": {
        "id": "TkLx98ZdICXl"
      },
      "source": [
        "from skimage.transform import resize\n",
        "import cv2\n",
        "flat_data=[]\n",
        "target=[]\n",
        "datadir='/content/drive/MyDrive/fingers'\n",
        "categories=['0','1','2','3','4','5']\n",
        "for i in categories:\n",
        "  path = os.path.join(datadir,i)\n",
        "  #print(path)\n",
        "  for img in os.listdir(path):\n",
        "    if(img=='.ipynb_checkpoints'):\n",
        "      continue\n",
        "    #print(os.path.join(path,img))\n",
        "    img_array=cv2.imread(os.path.join(path,img),0)\n",
        "    # plt.imshow(img_array)\n",
        "    # plt.show()\n",
        "    img_resize = resize(img_array,(150,150,3)) # Value gets converted 0-1 from 0-255\n",
        "    flat_data.append(np.ndarray.flatten(img_resize))\n",
        "    target.append(i)"
      ],
      "execution_count": 4,
      "outputs": []
    },
    {
      "cell_type": "markdown",
      "metadata": {
        "id": "FFWv39HnT3se"
      },
      "source": [
        "covert to DataFrame"
      ]
    },
    {
      "cell_type": "code",
      "metadata": {
        "id": "3NNbYdWlIScT"
      },
      "source": [
        "df = pd.DataFrame(flat_data)\n",
        "df['Target'] = target\n"
      ],
      "execution_count": 5,
      "outputs": []
    },
    {
      "cell_type": "markdown",
      "metadata": {
        "id": "viqv9WqZULh7"
      },
      "source": [
        "Splitting of data\n"
      ]
    },
    {
      "cell_type": "code",
      "metadata": {
        "id": "hXsMSjpcUlBC"
      },
      "source": [
        "X=pd.DataFrame(flat_data)\n",
        "y=target"
      ],
      "execution_count": 6,
      "outputs": []
    },
    {
      "cell_type": "code",
      "metadata": {
        "id": "8L12dZBPS6Vs"
      },
      "source": [
        "from sklearn.model_selection import train_test_split\n",
        "\n",
        "xtrain,xtest,ytrain,ytest=train_test_split(X,y,test_size=0.3,random_state=0,stratify=y)"
      ],
      "execution_count": 7,
      "outputs": []
    },
    {
      "cell_type": "markdown",
      "metadata": {
        "id": "0wynZ0Ygx5lv"
      },
      "source": [
        "Grid search for hyper parameter tuning"
      ]
    },
    {
      "cell_type": "code",
      "metadata": {
        "colab": {
          "base_uri": "https://localhost:8080/"
        },
        "id": "vPf8WPFEvF22",
        "outputId": "d40abece-616b-475c-d342-c8520c8e7271"
      },
      "source": [
        "from sklearn.svm import SVC\n",
        "model=SVC(kernel='poly',C=1).fit(xtrain,ytrain)\n",
        "pred=model.predict(xtest)\n",
        "from sklearn.metrics import accuracy_score\n",
        "accuracy_score(ytest,pred)\n",
        "from sklearn.model_selection import GridSearchCV\n",
        "model=SVC()\n",
        "param={'kernel':['linear','rbf','poly'],\n",
        "       'C':[0.1,1,10,100]} \n",
        "grid=GridSearchCV(model,param,cv=5)\n",
        "grid.fit(xtrain,ytrain)\n",
        "grid.best_params_\n"
      ],
      "execution_count": 8,
      "outputs": [
        {
          "output_type": "execute_result",
          "data": {
            "text/plain": [
              "{'C': 1, 'kernel': 'poly'}"
            ]
          },
          "metadata": {
            "tags": []
          },
          "execution_count": 8
        }
      ]
    },
    {
      "cell_type": "markdown",
      "metadata": {
        "id": "gSeFcBlDx-gH"
      },
      "source": [
        "training"
      ]
    },
    {
      "cell_type": "code",
      "metadata": {
        "colab": {
          "base_uri": "https://localhost:8080/"
        },
        "id": "_dKsFahOvVN8",
        "outputId": "45a3acf1-3869-47fe-9853-4d33a43171a9"
      },
      "source": [
        "from sklearn.svm import SVC\n",
        "model=SVC(kernel='poly',C=1).fit(xtrain,ytrain)\n",
        "pred=model.predict(xtest)\n",
        "from sklearn.metrics import accuracy_score\n",
        "accuracy_score(ytest,pred)"
      ],
      "execution_count": 9,
      "outputs": [
        {
          "output_type": "execute_result",
          "data": {
            "text/plain": [
              "0.9861111111111112"
            ]
          },
          "metadata": {
            "tags": []
          },
          "execution_count": 9
        }
      ]
    },
    {
      "cell_type": "markdown",
      "metadata": {
        "id": "KogRU7SLyCKZ"
      },
      "source": [
        "Now try with random image"
      ]
    },
    {
      "cell_type": "code",
      "metadata": {
        "colab": {
          "base_uri": "https://localhost:8080/"
        },
        "id": "F1-tt7MqxIJE",
        "outputId": "7b213c2e-2b26-4fd3-ff2f-8e812a963672"
      },
      "source": [
        "img_array=cv2.imread('/content/drive/MyDrive/fingers/5/8_5.png')\n",
        "img_resize = np.ndarray.flatten(resize(img_array,(150,150,3)))\n",
        "print(img_resize)"
      ],
      "execution_count": 10,
      "outputs": [
        {
          "output_type": "stream",
          "text": [
            "[0. 0. 0. ... 0. 0. 0.]\n"
          ],
          "name": "stdout"
        }
      ]
    },
    {
      "cell_type": "code",
      "metadata": {
        "colab": {
          "base_uri": "https://localhost:8080/"
        },
        "id": "XxAdDCV0wGnt",
        "outputId": "9247748f-b120-48ef-8f06-9f42d98cb337"
      },
      "source": [
        "print(model.predict([img_resize]))"
      ],
      "execution_count": 11,
      "outputs": [
        {
          "output_type": "stream",
          "text": [
            "['5']\n"
          ],
          "name": "stdout"
        }
      ]
    },
    {
      "cell_type": "markdown",
      "metadata": {
        "id": "dK1nFyj30QgE"
      },
      "source": [
        "save model"
      ]
    },
    {
      "cell_type": "code",
      "metadata": {
        "colab": {
          "base_uri": "https://localhost:8080/"
        },
        "id": "_hmfIrjVz6P5",
        "outputId": "8eab28cd-a732-4e71-c441-8fa05f6cac3e"
      },
      "source": [
        "import joblib\n",
        "joblib.dump(model,'Fingers')\n",
        "\n"
      ],
      "execution_count": 14,
      "outputs": [
        {
          "output_type": "execute_result",
          "data": {
            "text/plain": [
              "['Fingers']"
            ]
          },
          "metadata": {
            "tags": []
          },
          "execution_count": 14
        }
      ]
    },
    {
      "cell_type": "markdown",
      "metadata": {
        "id": "TZbYZYiByHKD"
      },
      "source": [
        "Deploy\n"
      ]
    },
    {
      "cell_type": "code",
      "metadata": {
        "colab": {
          "base_uri": "https://localhost:8080/"
        },
        "id": "EGXHB2olw2jL",
        "outputId": "e4c6e833-d087-4a25-ab7a-a9a282697c79"
      },
      "source": [
        "!pip install streamlit --quiet\n",
        "#for saving model in ml we use pickle or Joblib\n"
      ],
      "execution_count": 15,
      "outputs": [
        {
          "output_type": "stream",
          "text": [
            "\u001b[K     |████████████████████████████████| 7.0MB 13.3MB/s \n",
            "\u001b[K     |████████████████████████████████| 4.6MB 53.3MB/s \n",
            "\u001b[K     |████████████████████████████████| 112kB 58.2MB/s \n",
            "\u001b[K     |████████████████████████████████| 81kB 8.3MB/s \n",
            "\u001b[K     |████████████████████████████████| 163kB 54.1MB/s \n",
            "\u001b[K     |████████████████████████████████| 122kB 50.0MB/s \n",
            "\u001b[K     |████████████████████████████████| 71kB 7.8MB/s \n",
            "\u001b[?25h  Building wheel for blinker (setup.py) ... \u001b[?25l\u001b[?25hdone\n",
            "\u001b[31mERROR: google-colab 1.0.0 has requirement ipykernel~=4.10, but you'll have ipykernel 5.5.0 which is incompatible.\u001b[0m\n"
          ],
          "name": "stdout"
        }
      ]
    },
    {
      "cell_type": "code",
      "metadata": {
        "colab": {
          "base_uri": "https://localhost:8080/"
        },
        "id": "aVmWbVegw56M",
        "outputId": "2d37371e-1804-49f9-b597-f8939c20af14"
      },
      "source": [
        "\n",
        "!pip install pyngrok==4.1.1 --quiet\n",
        "from pyngrok import ngrok"
      ],
      "execution_count": 16,
      "outputs": [
        {
          "output_type": "stream",
          "text": [
            "  Building wheel for pyngrok (setup.py) ... \u001b[?25l\u001b[?25hdone\n"
          ],
          "name": "stdout"
        }
      ]
    },
    {
      "cell_type": "code",
      "metadata": {
        "colab": {
          "base_uri": "https://localhost:8080/"
        },
        "id": "NPHHY3jXzs9o",
        "outputId": "62974b26-fbfb-4081-8a8e-25c3cc55949c"
      },
      "source": [
        "%%writefile app.py\n",
        "import streamlit as st\n",
        "import joblib\n",
        "import cv2\n",
        "from skimage.transform import resize\n",
        "import numpy as np\n",
        "model=joblib.load('Fingers')\n",
        "st.title('finger Classifier')\n",
        "ip=st.text_input('Enter your message')\n",
        "if ip is not None:\n",
        "  img_array=cv2.imread(ip,0)\n",
        "  img_resize = np.ndarray.flatten(resize(img_array,(150,150,3)))\n",
        "  op=model.predict([img_resize])\n",
        "  if st.button('Predict'):\n",
        "    st.title(op[0])\n",
        "\n",
        " \n",
        "\n"
      ],
      "execution_count": 24,
      "outputs": [
        {
          "output_type": "stream",
          "text": [
            "Overwriting app.py\n"
          ],
          "name": "stdout"
        }
      ]
    },
    {
      "cell_type": "code",
      "metadata": {
        "colab": {
          "base_uri": "https://localhost:8080/",
          "height": 52
        },
        "id": "I10895XSzXBb",
        "outputId": "27bca0d4-11db-4989-9605-fca9448f718f"
      },
      "source": [
        "!nohup streamlit run app.py &\n",
        "url=ngrok.connect(port='8501')\n",
        "url"
      ],
      "execution_count": 18,
      "outputs": [
        {
          "output_type": "stream",
          "text": [
            "nohup: appending output to 'nohup.out'\n"
          ],
          "name": "stdout"
        },
        {
          "output_type": "execute_result",
          "data": {
            "application/vnd.google.colaboratory.intrinsic+json": {
              "type": "string"
            },
            "text/plain": [
              "'http://6f550ee9c165.ngrok.io'"
            ]
          },
          "metadata": {
            "tags": []
          },
          "execution_count": 18
        }
      ]
    },
    {
      "cell_type": "code",
      "metadata": {
        "id": "kw3NVFwq58GJ"
      },
      "source": [
        "model=joblib.load('Fingers')"
      ],
      "execution_count": 20,
      "outputs": []
    },
    {
      "cell_type": "code",
      "metadata": {
        "id": "4uh46ZFaqlsp"
      },
      "source": [
        ""
      ],
      "execution_count": null,
      "outputs": []
    }
  ]
}